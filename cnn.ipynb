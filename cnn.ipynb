{
 "cells": [
  {
   "cell_type": "code",
   "execution_count": 1,
   "id": "85ead628",
   "metadata": {
    "scrolled": true
   },
   "outputs": [
    {
     "name": "stderr",
     "output_type": "stream",
     "text": [
      "Using TensorFlow backend.\n"
     ]
    }
   ],
   "source": [
    "import tensorflow as tf\n",
    "from keras.preprocessing.image import ImageDataGenerator"
   ]
  },
  {
   "cell_type": "code",
   "execution_count": 2,
   "id": "f4e7c4ed",
   "metadata": {},
   "outputs": [
    {
     "name": "stdout",
     "output_type": "stream",
     "text": [
      "Found 613 images belonging to 4 classes.\n"
     ]
    }
   ],
   "source": [
    "# Training\n",
    "train_datagen = ImageDataGenerator(\n",
    "    rescale=1. / 255,\n",
    "    shear_range=0.2,\n",
    "    zoom_range=0.2,\n",
    "    horizontal_flip=True)\n",
    "training_set = train_datagen.flow_from_directory(\n",
    "    'cancer_dataset/training_set',\n",
    "    target_size=(64, 64),\n",
    "    batch_size=32,\n",
    "    class_mode='categorical')"
   ]
  },
  {
   "cell_type": "code",
   "execution_count": 3,
   "id": "4688139c",
   "metadata": {},
   "outputs": [
    {
     "name": "stdout",
     "output_type": "stream",
     "text": [
      "Found 315 images belonging to 4 classes.\n"
     ]
    }
   ],
   "source": [
    "# Test\n",
    "test_datagen = ImageDataGenerator(rescale=1./255)\n",
    "test_set = test_datagen.flow_from_directory(\n",
    "    'cancer_dataset/test_set',\n",
    "    target_size=(64, 64),\n",
    "    batch_size=32,\n",
    "    class_mode='categorical')"
   ]
  },
  {
   "cell_type": "code",
   "execution_count": 4,
   "id": "366ba0b4",
   "metadata": {},
   "outputs": [],
   "source": [
    "# Initialising the CNN\n",
    "cnn = tf.keras.models.Sequential()"
   ]
  },
  {
   "cell_type": "code",
   "execution_count": 5,
   "id": "ae8fc157",
   "metadata": {},
   "outputs": [],
   "source": [
    "# Step1 - Convolution\n",
    "cnn.add(tf.keras.layers.Conv2D(\n",
    "    filters=32,\n",
    "    kernel_size=3,\n",
    "    activation='relu',\n",
    "    input_shape=[64, 64, 3]))"
   ]
  },
  {
   "cell_type": "code",
   "execution_count": 6,
   "id": "82fd3cbe",
   "metadata": {},
   "outputs": [],
   "source": [
    "# Step2 - Pooling\n",
    "cnn.add(tf.keras.layers.MaxPool2D(pool_size=2, strides=2))"
   ]
  },
  {
   "cell_type": "code",
   "execution_count": 7,
   "id": "b7f5a2ee",
   "metadata": {},
   "outputs": [],
   "source": [
    "# 2nd Convolutional layer\n",
    "cnn.add(tf.keras.layers.Conv2D(\n",
    "    filters=32,\n",
    "    kernel_size=3,\n",
    "    activation='relu'))\n",
    "cnn.add(tf.keras.layers.MaxPool2D(pool_size=2, strides=2))"
   ]
  },
  {
   "cell_type": "code",
   "execution_count": 8,
   "id": "13de9818",
   "metadata": {},
   "outputs": [],
   "source": [
    "# 3rd Convolutional layer\n",
    "cnn.add(tf.keras.layers.Conv2D(\n",
    "    filters=32,\n",
    "    kernel_size=3,\n",
    "    activation='relu'))\n",
    "cnn.add(tf.keras.layers.MaxPool2D(pool_size=2, strides=2))"
   ]
  },
  {
   "cell_type": "code",
   "execution_count": 9,
   "id": "1630cc46",
   "metadata": {},
   "outputs": [],
   "source": [
    "# Step3 - Fallenting\n",
    "cnn.add(tf.keras.layers.Flatten())"
   ]
  },
  {
   "cell_type": "code",
   "execution_count": 10,
   "id": "8318f27d",
   "metadata": {},
   "outputs": [],
   "source": [
    "# Step4 - Full Connection\n",
    "cnn.add(tf.keras.layers.Dense(units=128, activation='relu'))"
   ]
  },
  {
   "cell_type": "code",
   "execution_count": 11,
   "id": "9b01314e",
   "metadata": {},
   "outputs": [],
   "source": [
    "# Step5 - Output Layer\n",
    "cnn.add(tf.keras.layers.Dense(units=4, activation='softmax'))"
   ]
  },
  {
   "cell_type": "code",
   "execution_count": 12,
   "id": "e611939b",
   "metadata": {},
   "outputs": [],
   "source": [
    "# Compile the CNN\n",
    "cnn.compile(optimizer='adam', loss='categorical_crossentropy', metrics=['categorical_accuracy'])"
   ]
  },
  {
   "cell_type": "code",
   "execution_count": 13,
   "id": "d937bec0",
   "metadata": {},
   "outputs": [
    {
     "name": "stdout",
     "output_type": "stream",
     "text": [
      "Epoch 1/25\n",
      "20/20 [==============================] - 13s 672ms/step - loss: 1.3244 - categorical_accuracy: 0.2985 - val_loss: 1.3020 - val_categorical_accuracy: 0.1937\n",
      "Epoch 2/25\n",
      "20/20 [==============================] - 14s 699ms/step - loss: 1.1964 - categorical_accuracy: 0.4633 - val_loss: 1.2186 - val_categorical_accuracy: 0.3302\n",
      "Epoch 3/25\n",
      "20/20 [==============================] - 14s 683ms/step - loss: 1.0937 - categorical_accuracy: 0.5285 - val_loss: 1.4476 - val_categorical_accuracy: 0.2857\n",
      "Epoch 4/25\n",
      "20/20 [==============================] - 13s 674ms/step - loss: 1.0215 - categorical_accuracy: 0.5579 - val_loss: 1.0431 - val_categorical_accuracy: 0.4667\n",
      "Epoch 5/25\n",
      "20/20 [==============================] - 13s 641ms/step - loss: 0.9318 - categorical_accuracy: 0.6101 - val_loss: 1.1904 - val_categorical_accuracy: 0.5143\n",
      "Epoch 6/25\n",
      "20/20 [==============================] - 13s 662ms/step - loss: 0.7938 - categorical_accuracy: 0.6623 - val_loss: 1.0731 - val_categorical_accuracy: 0.5683\n",
      "Epoch 7/25\n",
      "20/20 [==============================] - 13s 637ms/step - loss: 0.7427 - categorical_accuracy: 0.6737 - val_loss: 1.2061 - val_categorical_accuracy: 0.5270\n",
      "Epoch 8/25\n",
      "20/20 [==============================] - 13s 650ms/step - loss: 0.7535 - categorical_accuracy: 0.6835 - val_loss: 1.5765 - val_categorical_accuracy: 0.5175\n",
      "Epoch 9/25\n",
      "20/20 [==============================] - 13s 655ms/step - loss: 0.7093 - categorical_accuracy: 0.7145 - val_loss: 1.2718 - val_categorical_accuracy: 0.5429\n",
      "Epoch 10/25\n",
      "20/20 [==============================] - 13s 643ms/step - loss: 0.6463 - categorical_accuracy: 0.7064 - val_loss: 1.4290 - val_categorical_accuracy: 0.5206\n",
      "Epoch 11/25\n",
      "20/20 [==============================] - 13s 644ms/step - loss: 0.6437 - categorical_accuracy: 0.7308 - val_loss: 1.9671 - val_categorical_accuracy: 0.5397\n",
      "Epoch 12/25\n",
      "20/20 [==============================] - 13s 650ms/step - loss: 0.6111 - categorical_accuracy: 0.7406 - val_loss: 1.9546 - val_categorical_accuracy: 0.5175\n",
      "Epoch 13/25\n",
      "20/20 [==============================] - 14s 680ms/step - loss: 0.5480 - categorical_accuracy: 0.7716 - val_loss: 2.2296 - val_categorical_accuracy: 0.4286\n",
      "Epoch 14/25\n",
      "20/20 [==============================] - 13s 669ms/step - loss: 0.5805 - categorical_accuracy: 0.7732 - val_loss: 2.9390 - val_categorical_accuracy: 0.3492\n",
      "Epoch 15/25\n",
      "20/20 [==============================] - 16s 790ms/step - loss: 0.5850 - categorical_accuracy: 0.7798 - val_loss: 1.9789 - val_categorical_accuracy: 0.4476\n",
      "Epoch 16/25\n",
      "20/20 [==============================] - 17s 873ms/step - loss: 0.4890 - categorical_accuracy: 0.8124 - val_loss: 2.0928 - val_categorical_accuracy: 0.4984\n",
      "Epoch 17/25\n",
      "20/20 [==============================] - 18s 878ms/step - loss: 0.4416 - categorical_accuracy: 0.8238 - val_loss: 2.3147 - val_categorical_accuracy: 0.4508\n",
      "Epoch 18/25\n",
      "20/20 [==============================] - 18s 906ms/step - loss: 0.4072 - categorical_accuracy: 0.8352 - val_loss: 1.7242 - val_categorical_accuracy: 0.5206\n",
      "Epoch 19/25\n",
      "20/20 [==============================] - 18s 915ms/step - loss: 0.4710 - categorical_accuracy: 0.8206 - val_loss: 1.7979 - val_categorical_accuracy: 0.5238\n",
      "Epoch 20/25\n",
      "20/20 [==============================] - 18s 896ms/step - loss: 0.4256 - categorical_accuracy: 0.8401 - val_loss: 1.8344 - val_categorical_accuracy: 0.4603\n",
      "Epoch 21/25\n",
      "20/20 [==============================] - 18s 910ms/step - loss: 0.3861 - categorical_accuracy: 0.8434 - val_loss: 2.1369 - val_categorical_accuracy: 0.4317\n",
      "Epoch 22/25\n",
      "20/20 [==============================] - 18s 887ms/step - loss: 0.3647 - categorical_accuracy: 0.8450 - val_loss: 2.6604 - val_categorical_accuracy: 0.4476\n",
      "Epoch 23/25\n",
      "20/20 [==============================] - 18s 901ms/step - loss: 0.3508 - categorical_accuracy: 0.8679 - val_loss: 2.8463 - val_categorical_accuracy: 0.4635\n",
      "Epoch 24/25\n",
      "20/20 [==============================] - 19s 937ms/step - loss: 0.2953 - categorical_accuracy: 0.8842 - val_loss: 2.7697 - val_categorical_accuracy: 0.4444\n",
      "Epoch 25/25\n",
      "20/20 [==============================] - 19s 936ms/step - loss: 0.3170 - categorical_accuracy: 0.8777 - val_loss: 2.3527 - val_categorical_accuracy: 0.4635\n"
     ]
    },
    {
     "data": {
      "text/plain": [
       "<tensorflow.python.keras.callbacks.History at 0x177f2108348>"
      ]
     },
     "execution_count": 13,
     "metadata": {},
     "output_type": "execute_result"
    }
   ],
   "source": [
    "# Training the CNN on the Training set\n",
    "# and evaluation it on the Test set\n",
    "cnn.fit(x = training_set, validation_data=test_set, epochs=25)"
   ]
  },
  {
   "cell_type": "code",
   "execution_count": 19,
   "id": "87bfd04c",
   "metadata": {},
   "outputs": [],
   "source": [
    "# Making a Single prediction\n",
    "import numpy as np\n",
    "from keras.preprocessing import image\n",
    "test_image = image.load_img('cancer_dataset/prediction/squamous.cell.carcinoma.left.hilum/000119.png', target_size=(64, 64))\n",
    "test_image = image.img_to_array(test_image)\n",
    "test_image = np.expand_dims(test_image, axis=0)\n",
    "result = cnn.predict(test_image)\n",
    "training_set.class_indices\n",
    "if result[0][0] == 0:\n",
    "    prediction = 'Normal'\n",
    "elif result[0][0] == 1:\n",
    "    prediction = 'Adenocarcinoma'\n",
    "elif result[0][0] == 2:\n",
    "    prediction = 'Large carcinoma'\n",
    "elif result[0][0] == 3:\n",
    "    prediction = 'Squanmous carcinoma'"
   ]
  },
  {
   "cell_type": "code",
   "execution_count": 21,
   "id": "34786f71",
   "metadata": {},
   "outputs": [
    {
     "name": "stdout",
     "output_type": "stream",
     "text": [
      "Normal\n"
     ]
    }
   ],
   "source": [
    "# last cell\n",
    "print(prediction)"
   ]
  },
  {
   "cell_type": "code",
   "execution_count": null,
   "id": "9707a49f",
   "metadata": {},
   "outputs": [],
   "source": []
  }
 ],
 "metadata": {
  "kernelspec": {
   "display_name": "Python 3 (ipykernel)",
   "language": "python",
   "name": "python3"
  },
  "language_info": {
   "codemirror_mode": {
    "name": "ipython",
    "version": 3
   },
   "file_extension": ".py",
   "mimetype": "text/x-python",
   "name": "python",
   "nbconvert_exporter": "python",
   "pygments_lexer": "ipython3",
   "version": "3.7.13"
  }
 },
 "nbformat": 4,
 "nbformat_minor": 5
}
