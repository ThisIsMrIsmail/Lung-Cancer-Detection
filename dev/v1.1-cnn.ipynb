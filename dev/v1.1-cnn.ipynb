{
 "cells": [
  {
   "cell_type": "code",
   "execution_count": 70,
   "id": "85ead628",
   "metadata": {
    "scrolled": true
   },
   "outputs": [],
   "source": [
    "import tensorflow as tf\n",
    "from tensorflow.keras.preprocessing.image import ImageDataGenerator # type: ignore\n",
    "\n",
    "dataset_path = \"datasets/v1-data\""
   ]
  },
  {
   "cell_type": "code",
   "execution_count": 71,
   "id": "f4e7c4ed",
   "metadata": {},
   "outputs": [
    {
     "name": "stdout",
     "output_type": "stream",
     "text": [
      "Found 613 images belonging to 4 classes.\n"
     ]
    }
   ],
   "source": [
    "# Training\n",
    "train_datagen = ImageDataGenerator(\n",
    "    rescale=1. / 255,\n",
    "    shear_range=0.2,\n",
    "    zoom_range=0.2,\n",
    "    horizontal_flip=True)\n",
    "training_set = train_datagen.flow_from_directory(\n",
    "    f'{dataset_path}/train',\n",
    "    target_size=(64, 64),\n",
    "    batch_size=32,\n",
    "    class_mode='categorical')"
   ]
  },
  {
   "cell_type": "code",
   "execution_count": 72,
   "id": "4688139c",
   "metadata": {},
   "outputs": [
    {
     "name": "stdout",
     "output_type": "stream",
     "text": [
      "Found 72 images belonging to 4 classes.\n"
     ]
    }
   ],
   "source": [
    "# Test\n",
    "val_datagen = ImageDataGenerator(rescale=1./255)\n",
    "val_set = val_datagen.flow_from_directory(\n",
    "    f'{dataset_path}/val',\n",
    "    target_size=(64, 64),\n",
    "    batch_size=32,\n",
    "    class_mode='categorical')"
   ]
  },
  {
   "cell_type": "code",
   "execution_count": 73,
   "id": "366ba0b4",
   "metadata": {},
   "outputs": [],
   "source": [
    "# Initialising the CNN\n",
    "cnn = tf.keras.models.Sequential()"
   ]
  },
  {
   "cell_type": "code",
   "execution_count": 74,
   "id": "ae8fc157",
   "metadata": {},
   "outputs": [
    {
     "name": "stderr",
     "output_type": "stream",
     "text": [
      "c:\\Python\\Python(3.12)\\Lib\\site-packages\\keras\\src\\layers\\convolutional\\base_conv.py:99: UserWarning: Do not pass an `input_shape`/`input_dim` argument to a layer. When using Sequential models, prefer using an `Input(shape)` object as the first layer in the model instead.\n",
      "  super().__init__(\n"
     ]
    }
   ],
   "source": [
    "# Step1 - Convolution\n",
    "cnn.add(tf.keras.layers.Conv2D(\n",
    "    filters=32,\n",
    "    kernel_size=3,\n",
    "    activation='relu',\n",
    "    input_shape=[64, 64, 3]))"
   ]
  },
  {
   "cell_type": "code",
   "execution_count": 75,
   "id": "82fd3cbe",
   "metadata": {},
   "outputs": [],
   "source": [
    "# Step2 - Pooling\n",
    "cnn.add(tf.keras.layers.MaxPool2D(pool_size=2, strides=2))"
   ]
  },
  {
   "cell_type": "code",
   "execution_count": 76,
   "id": "b7f5a2ee",
   "metadata": {},
   "outputs": [],
   "source": [
    "# 2nd Convolutional layer\n",
    "cnn.add(tf.keras.layers.Conv2D(\n",
    "    filters=32,\n",
    "    kernel_size=3,\n",
    "    activation='relu'))\n",
    "cnn.add(tf.keras.layers.MaxPool2D(pool_size=2, strides=2))"
   ]
  },
  {
   "cell_type": "code",
   "execution_count": 77,
   "id": "13de9818",
   "metadata": {},
   "outputs": [],
   "source": [
    "# 3rd Convolutional layer\n",
    "cnn.add(tf.keras.layers.Conv2D(\n",
    "    filters=32,\n",
    "    kernel_size=3,\n",
    "    activation='relu'))\n",
    "cnn.add(tf.keras.layers.MaxPool2D(pool_size=2, strides=2))"
   ]
  },
  {
   "cell_type": "code",
   "execution_count": 78,
   "id": "1630cc46",
   "metadata": {},
   "outputs": [],
   "source": [
    "# Step3 - Fallenting\n",
    "cnn.add(tf.keras.layers.Flatten())"
   ]
  },
  {
   "cell_type": "code",
   "execution_count": 79,
   "id": "8318f27d",
   "metadata": {},
   "outputs": [],
   "source": [
    "# Step4 - Full Connection\n",
    "cnn.add(tf.keras.layers.Dense(units=128, activation='relu'))"
   ]
  },
  {
   "cell_type": "code",
   "execution_count": 80,
   "id": "9b01314e",
   "metadata": {},
   "outputs": [],
   "source": [
    "# Step5 - Output Layer\n",
    "cnn.add(tf.keras.layers.Dense(units=4, activation='softmax'))"
   ]
  },
  {
   "cell_type": "code",
   "execution_count": 81,
   "id": "e611939b",
   "metadata": {},
   "outputs": [],
   "source": [
    "# Compile the CNN\n",
    "cnn.compile(optimizer='adam', loss='categorical_crossentropy', metrics=['categorical_accuracy'])"
   ]
  },
  {
   "cell_type": "code",
   "execution_count": 82,
   "id": "d937bec0",
   "metadata": {},
   "outputs": [
    {
     "name": "stdout",
     "output_type": "stream",
     "text": [
      "Epoch 1/25\n"
     ]
    },
    {
     "name": "stderr",
     "output_type": "stream",
     "text": [
      "c:\\Python\\Python(3.12)\\Lib\\site-packages\\keras\\src\\trainers\\data_adapters\\py_dataset_adapter.py:122: UserWarning: Your `PyDataset` class should call `super().__init__(**kwargs)` in its constructor. `**kwargs` can include `workers`, `use_multiprocessing`, `max_queue_size`. Do not pass these arguments to `fit()`, as they will be ignored.\n",
      "  self._warn_if_super_not_called()\n"
     ]
    },
    {
     "name": "stdout",
     "output_type": "stream",
     "text": [
      "\u001b[1m20/20\u001b[0m \u001b[32m━━━━━━━━━━━━━━━━━━━━\u001b[0m\u001b[37m\u001b[0m \u001b[1m6s\u001b[0m 146ms/step - categorical_accuracy: 0.2511 - loss: 1.3458 - val_categorical_accuracy: 0.3889 - val_loss: 1.3246\n",
      "Epoch 2/25\n",
      "\u001b[1m20/20\u001b[0m \u001b[32m━━━━━━━━━━━━━━━━━━━━\u001b[0m\u001b[37m\u001b[0m \u001b[1m4s\u001b[0m 125ms/step - categorical_accuracy: 0.4373 - loss: 1.2023 - val_categorical_accuracy: 0.4722 - val_loss: 1.1150\n",
      "Epoch 3/25\n",
      "\u001b[1m20/20\u001b[0m \u001b[32m━━━━━━━━━━━━━━━━━━━━\u001b[0m\u001b[37m\u001b[0m \u001b[1m4s\u001b[0m 139ms/step - categorical_accuracy: 0.4491 - loss: 1.1316 - val_categorical_accuracy: 0.4444 - val_loss: 1.2020\n",
      "Epoch 4/25\n",
      "\u001b[1m20/20\u001b[0m \u001b[32m━━━━━━━━━━━━━━━━━━━━\u001b[0m\u001b[37m\u001b[0m \u001b[1m4s\u001b[0m 122ms/step - categorical_accuracy: 0.6031 - loss: 1.0314 - val_categorical_accuracy: 0.5694 - val_loss: 1.1404\n",
      "Epoch 5/25\n",
      "\u001b[1m20/20\u001b[0m \u001b[32m━━━━━━━━━━━━━━━━━━━━\u001b[0m\u001b[37m\u001b[0m \u001b[1m3s\u001b[0m 121ms/step - categorical_accuracy: 0.6430 - loss: 0.8851 - val_categorical_accuracy: 0.6111 - val_loss: 0.9135\n",
      "Epoch 6/25\n",
      "\u001b[1m20/20\u001b[0m \u001b[32m━━━━━━━━━━━━━━━━━━━━\u001b[0m\u001b[37m\u001b[0m \u001b[1m4s\u001b[0m 129ms/step - categorical_accuracy: 0.5644 - loss: 0.9821 - val_categorical_accuracy: 0.5000 - val_loss: 1.0349\n",
      "Epoch 7/25\n",
      "\u001b[1m20/20\u001b[0m \u001b[32m━━━━━━━━━━━━━━━━━━━━\u001b[0m\u001b[37m\u001b[0m \u001b[1m3s\u001b[0m 117ms/step - categorical_accuracy: 0.6686 - loss: 0.8286 - val_categorical_accuracy: 0.5556 - val_loss: 1.0143\n",
      "Epoch 8/25\n",
      "\u001b[1m20/20\u001b[0m \u001b[32m━━━━━━━━━━━━━━━━━━━━\u001b[0m\u001b[37m\u001b[0m \u001b[1m4s\u001b[0m 128ms/step - categorical_accuracy: 0.6942 - loss: 0.7023 - val_categorical_accuracy: 0.6111 - val_loss: 0.9426\n",
      "Epoch 9/25\n",
      "\u001b[1m20/20\u001b[0m \u001b[32m━━━━━━━━━━━━━━━━━━━━\u001b[0m\u001b[37m\u001b[0m \u001b[1m3s\u001b[0m 120ms/step - categorical_accuracy: 0.7149 - loss: 0.6686 - val_categorical_accuracy: 0.6250 - val_loss: 0.9318\n",
      "Epoch 10/25\n",
      "\u001b[1m20/20\u001b[0m \u001b[32m━━━━━━━━━━━━━━━━━━━━\u001b[0m\u001b[37m\u001b[0m \u001b[1m4s\u001b[0m 143ms/step - categorical_accuracy: 0.7307 - loss: 0.6524 - val_categorical_accuracy: 0.5694 - val_loss: 0.9795\n",
      "Epoch 11/25\n",
      "\u001b[1m20/20\u001b[0m \u001b[32m━━━━━━━━━━━━━━━━━━━━\u001b[0m\u001b[37m\u001b[0m \u001b[1m4s\u001b[0m 120ms/step - categorical_accuracy: 0.7010 - loss: 0.6999 - val_categorical_accuracy: 0.6250 - val_loss: 0.7402\n",
      "Epoch 12/25\n",
      "\u001b[1m20/20\u001b[0m \u001b[32m━━━━━━━━━━━━━━━━━━━━\u001b[0m\u001b[37m\u001b[0m \u001b[1m3s\u001b[0m 123ms/step - categorical_accuracy: 0.7459 - loss: 0.6595 - val_categorical_accuracy: 0.6944 - val_loss: 0.8057\n",
      "Epoch 13/25\n",
      "\u001b[1m20/20\u001b[0m \u001b[32m━━━━━━━━━━━━━━━━━━━━\u001b[0m\u001b[37m\u001b[0m \u001b[1m4s\u001b[0m 136ms/step - categorical_accuracy: 0.7683 - loss: 0.6022 - val_categorical_accuracy: 0.6528 - val_loss: 0.7640\n",
      "Epoch 14/25\n",
      "\u001b[1m20/20\u001b[0m \u001b[32m━━━━━━━━━━━━━━━━━━━━\u001b[0m\u001b[37m\u001b[0m \u001b[1m4s\u001b[0m 158ms/step - categorical_accuracy: 0.7103 - loss: 0.6769 - val_categorical_accuracy: 0.6111 - val_loss: 1.0286\n",
      "Epoch 15/25\n",
      "\u001b[1m20/20\u001b[0m \u001b[32m━━━━━━━━━━━━━━━━━━━━\u001b[0m\u001b[37m\u001b[0m \u001b[1m4s\u001b[0m 129ms/step - categorical_accuracy: 0.7693 - loss: 0.5457 - val_categorical_accuracy: 0.6944 - val_loss: 0.8168\n",
      "Epoch 16/25\n",
      "\u001b[1m20/20\u001b[0m \u001b[32m━━━━━━━━━━━━━━━━━━━━\u001b[0m\u001b[37m\u001b[0m \u001b[1m4s\u001b[0m 151ms/step - categorical_accuracy: 0.8206 - loss: 0.4741 - val_categorical_accuracy: 0.6806 - val_loss: 0.8753\n",
      "Epoch 17/25\n",
      "\u001b[1m20/20\u001b[0m \u001b[32m━━━━━━━━━━━━━━━━━━━━\u001b[0m\u001b[37m\u001b[0m \u001b[1m4s\u001b[0m 132ms/step - categorical_accuracy: 0.8217 - loss: 0.4694 - val_categorical_accuracy: 0.6667 - val_loss: 0.8308\n",
      "Epoch 18/25\n",
      "\u001b[1m20/20\u001b[0m \u001b[32m━━━━━━━━━━━━━━━━━━━━\u001b[0m\u001b[37m\u001b[0m \u001b[1m3s\u001b[0m 117ms/step - categorical_accuracy: 0.8160 - loss: 0.5239 - val_categorical_accuracy: 0.6806 - val_loss: 0.6998\n",
      "Epoch 19/25\n",
      "\u001b[1m20/20\u001b[0m \u001b[32m━━━━━━━━━━━━━━━━━━━━\u001b[0m\u001b[37m\u001b[0m \u001b[1m3s\u001b[0m 121ms/step - categorical_accuracy: 0.7860 - loss: 0.5190 - val_categorical_accuracy: 0.6806 - val_loss: 0.8300\n",
      "Epoch 20/25\n",
      "\u001b[1m20/20\u001b[0m \u001b[32m━━━━━━━━━━━━━━━━━━━━\u001b[0m\u001b[37m\u001b[0m \u001b[1m3s\u001b[0m 111ms/step - categorical_accuracy: 0.8449 - loss: 0.4107 - val_categorical_accuracy: 0.7222 - val_loss: 0.6199\n",
      "Epoch 21/25\n",
      "\u001b[1m20/20\u001b[0m \u001b[32m━━━━━━━━━━━━━━━━━━━━\u001b[0m\u001b[37m\u001b[0m \u001b[1m3s\u001b[0m 118ms/step - categorical_accuracy: 0.8480 - loss: 0.3789 - val_categorical_accuracy: 0.6806 - val_loss: 0.7887\n",
      "Epoch 22/25\n",
      "\u001b[1m20/20\u001b[0m \u001b[32m━━━━━━━━━━━━━━━━━━━━\u001b[0m\u001b[37m\u001b[0m \u001b[1m3s\u001b[0m 115ms/step - categorical_accuracy: 0.8453 - loss: 0.3612 - val_categorical_accuracy: 0.6806 - val_loss: 0.7797\n",
      "Epoch 23/25\n",
      "\u001b[1m20/20\u001b[0m \u001b[32m━━━━━━━━━━━━━━━━━━━━\u001b[0m\u001b[37m\u001b[0m \u001b[1m3s\u001b[0m 124ms/step - categorical_accuracy: 0.8366 - loss: 0.3543 - val_categorical_accuracy: 0.6944 - val_loss: 0.6686\n",
      "Epoch 24/25\n",
      "\u001b[1m20/20\u001b[0m \u001b[32m━━━━━━━━━━━━━━━━━━━━\u001b[0m\u001b[37m\u001b[0m \u001b[1m4s\u001b[0m 125ms/step - categorical_accuracy: 0.8859 - loss: 0.3195 - val_categorical_accuracy: 0.7361 - val_loss: 0.7360\n",
      "Epoch 25/25\n",
      "\u001b[1m20/20\u001b[0m \u001b[32m━━━━━━━━━━━━━━━━━━━━\u001b[0m\u001b[37m\u001b[0m \u001b[1m4s\u001b[0m 141ms/step - categorical_accuracy: 0.8744 - loss: 0.3340 - val_categorical_accuracy: 0.6528 - val_loss: 0.9330\n"
     ]
    },
    {
     "data": {
      "text/plain": [
       "<keras.src.callbacks.history.History at 0x1a5423a5940>"
      ]
     },
     "execution_count": 82,
     "metadata": {},
     "output_type": "execute_result"
    }
   ],
   "source": [
    "# Training the CNN on the Training set\n",
    "# and evaluation it on the Test set\n",
    "cnn.fit(x = training_set, validation_data=val_set, epochs=25)"
   ]
  },
  {
   "cell_type": "code",
   "execution_count": 149,
   "id": "87bfd04c",
   "metadata": {},
   "outputs": [
    {
     "name": "stdout",
     "output_type": "stream",
     "text": [
      "datasets/v1-data/test\\adenocarcinoma\\000121.png\n",
      "\u001b[1m1/1\u001b[0m \u001b[32m━━━━━━━━━━━━━━━━━━━━\u001b[0m\u001b[37m\u001b[0m \u001b[1m0s\u001b[0m 61ms/step\n",
      "[[0. 0. 1. 0.]]\n",
      "{'adenocarcinoma': 0, 'large-cell-carcinoma': 1, 'normal': 2, 'squamous-cell-carcinoma': 3}\n",
      "Adenocarcinoma\n"
     ]
    }
   ],
   "source": [
    "# Making a Single prediction\n",
    "import numpy as np\n",
    "from keras.preprocessing import image\n",
    "import os\n",
    "import random\n",
    "\n",
    "test_folders = ['adenocarcinoma', 'large-cell-carcinoma', 'normal', 'squamous-cell-carcinoma']\n",
    "random_folder = random.choice(test_folders)\n",
    "folder_path = os.path.join(f'{dataset_path}/test', random_folder)\n",
    "images = os.listdir(folder_path)\n",
    "random_image = random.choice(images)\n",
    "image_path = os.path.join(folder_path, random_image)\n",
    "\n",
    "print(image_path)\n",
    "\n",
    "test_image = image.load_img(image_path, target_size=(64, 64))\n",
    "test_image = image.img_to_array(test_image)\n",
    "test_image = np.expand_dims(test_image, axis=0)\n",
    "\n",
    "result = cnn.predict(test_image)\n",
    "\n",
    "print(result)\n",
    "print(training_set.class_indices)\n",
    "\n",
    "if result[0][0] == 0:\n",
    "    prediction = 'Adenocarcinoma'\n",
    "elif result[0][0] == 1:\n",
    "    prediction = 'Large Cell Carcinoma'\n",
    "elif result[0][0] == 2:\n",
    "    prediction = 'Normal'\n",
    "elif result[0][0] == 3:\n",
    "    prediction = 'Squanmous Cell Carcinoma'\n",
    "\n",
    "print(prediction)"
   ]
  }
 ],
 "metadata": {
  "kernelspec": {
   "display_name": "Python 3",
   "language": "python",
   "name": "python3"
  },
  "language_info": {
   "codemirror_mode": {
    "name": "ipython",
    "version": 3
   },
   "file_extension": ".py",
   "mimetype": "text/x-python",
   "name": "python",
   "nbconvert_exporter": "python",
   "pygments_lexer": "ipython3",
   "version": "3.12.0"
  }
 },
 "nbformat": 4,
 "nbformat_minor": 5
}
